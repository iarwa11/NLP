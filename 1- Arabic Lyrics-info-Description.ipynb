{
 "cells": [
  {
   "cell_type": "code",
   "execution_count": 2,
   "metadata": {
    "scrolled": true
   },
   "outputs": [
    {
     "name": "stderr",
     "output_type": "stream",
     "text": [
      "[nltk_data] Downloading package wordnet to\n",
      "[nltk_data]     /Users/arwaalgethami/nltk_data...\n",
      "[nltk_data]   Package wordnet is already up-to-date!\n"
     ]
    }
   ],
   "source": [
    "import pandas as pd\n",
    "import re\n",
    "import string\n",
    "import nltk\n",
    "import pyarabic.araby as araby\n",
    "from nltk import word_tokenize\n",
    "from nltk.corpus import stopwords\n",
    "stopwords = nltk. corpus.stopwords.words('arabic')\n",
    "from nltk.stem.isri import ISRIStemmer\n",
    "from sklearn.feature_extraction.text import CountVectorizer, TfidfTransformer, TfidfVectorizer\n",
    "nltk.download('wordnet')\n",
    "pd.set_option('display.max_colwidth',100)\n",
    "ps = nltk.ISRIStemmer()\n",
    "wn = nltk.WordNetLemmatizer()"
   ]
  },
  {
   "cell_type": "code",
   "execution_count": 4,
   "metadata": {},
   "outputs": [],
   "source": [
    "# import the data\n",
    "Lyrics_df = pd.read_csv('arabicLyrics.csv')"
   ]
  },
  {
   "cell_type": "code",
   "execution_count": 5,
   "metadata": {
    "scrolled": true
   },
   "outputs": [
    {
     "name": "stdout",
     "output_type": "stream",
     "text": [
      "Input data has 527896 rows and 9 columns\n"
     ]
    }
   ],
   "source": [
    "#what is the shape of the dataset?\n",
    "print('Input data has {} rows and {} columns'. format(len(Lyrics_df), len(Lyrics_df.columns)))"
   ]
  },
  {
   "cell_type": "code",
   "execution_count": 6,
   "metadata": {
    "scrolled": true
   },
   "outputs": [
    {
     "data": {
      "text/plain": [
       "songID                0\n",
       "Singer                0\n",
       "SongTitle             0\n",
       "SongWriter           75\n",
       "Composer              0\n",
       "LyricsOrder           0\n",
       "Lyrics                0\n",
       "SingerNationality     0\n",
       "SongDialect           0\n",
       "dtype: int64"
      ]
     },
     "execution_count": 6,
     "metadata": {},
     "output_type": "execute_result"
    }
   ],
   "source": [
    "# How much missing data is there?\n",
    "Lyrics_df.isnull().sum()"
   ]
  },
  {
   "cell_type": "code",
   "execution_count": 7,
   "metadata": {
    "scrolled": true
   },
   "outputs": [
    {
     "data": {
      "text/html": [
       "<div>\n",
       "<style scoped>\n",
       "    .dataframe tbody tr th:only-of-type {\n",
       "        vertical-align: middle;\n",
       "    }\n",
       "\n",
       "    .dataframe tbody tr th {\n",
       "        vertical-align: top;\n",
       "    }\n",
       "\n",
       "    .dataframe thead th {\n",
       "        text-align: right;\n",
       "    }\n",
       "</style>\n",
       "<table border=\"1\" class=\"dataframe\">\n",
       "  <thead>\n",
       "    <tr style=\"text-align: right;\">\n",
       "      <th></th>\n",
       "      <th>songID</th>\n",
       "      <th>Singer</th>\n",
       "      <th>SongTitle</th>\n",
       "      <th>SongWriter</th>\n",
       "      <th>Composer</th>\n",
       "      <th>LyricsOrder</th>\n",
       "      <th>Lyrics</th>\n",
       "      <th>SingerNationality</th>\n",
       "      <th>SongDialect</th>\n",
       "    </tr>\n",
       "  </thead>\n",
       "  <tbody>\n",
       "    <tr>\n",
       "      <td>0</td>\n",
       "      <td>1537</td>\n",
       "      <td>ابتسام</td>\n",
       "      <td>اروح لاحبابي</td>\n",
       "      <td>ملامح</td>\n",
       "      <td>بندر بن فهد</td>\n",
       "      <td>2</td>\n",
       "      <td>اروح لاحبابي والاقي الفرح ساكن عينهم</td>\n",
       "      <td>Morocco</td>\n",
       "      <td>Meghribi</td>\n",
       "    </tr>\n",
       "    <tr>\n",
       "      <td>1</td>\n",
       "      <td>1537</td>\n",
       "      <td>ابتسام</td>\n",
       "      <td>اروح لاحبابي</td>\n",
       "      <td>ملامح</td>\n",
       "      <td>بندر بن فهد</td>\n",
       "      <td>3</td>\n",
       "      <td>ابتسم لافراحهم وانا من الهم احترق</td>\n",
       "      <td>Morocco</td>\n",
       "      <td>Meghribi</td>\n",
       "    </tr>\n",
       "    <tr>\n",
       "      <td>2</td>\n",
       "      <td>1537</td>\n",
       "      <td>ابتسام</td>\n",
       "      <td>اروح لاحبابي</td>\n",
       "      <td>ملامح</td>\n",
       "      <td>بندر بن فهد</td>\n",
       "      <td>4</td>\n",
       "      <td>واسأل جروحي من ترى حس بعذابي منهم</td>\n",
       "      <td>Morocco</td>\n",
       "      <td>Meghribi</td>\n",
       "    </tr>\n",
       "    <tr>\n",
       "      <td>3</td>\n",
       "      <td>1537</td>\n",
       "      <td>ابتسام</td>\n",
       "      <td>اروح لاحبابي</td>\n",
       "      <td>ملامح</td>\n",
       "      <td>بندر بن فهد</td>\n",
       "      <td>5</td>\n",
       "      <td>وبالحقيقه انصدم محدن معه همي فرق</td>\n",
       "      <td>Morocco</td>\n",
       "      <td>Meghribi</td>\n",
       "    </tr>\n",
       "    <tr>\n",
       "      <td>4</td>\n",
       "      <td>1537</td>\n",
       "      <td>ابتسام</td>\n",
       "      <td>اروح لاحبابي</td>\n",
       "      <td>ملامح</td>\n",
       "      <td>بندر بن فهد</td>\n",
       "      <td>6</td>\n",
       "      <td>دورت في كل الوجيه حسيت غربه بينهم</td>\n",
       "      <td>Morocco</td>\n",
       "      <td>Meghribi</td>\n",
       "    </tr>\n",
       "  </tbody>\n",
       "</table>\n",
       "</div>"
      ],
      "text/plain": [
       "   songID  Singer     SongTitle SongWriter     Composer  LyricsOrder  \\\n",
       "0    1537  ابتسام  اروح لاحبابي      ملامح  بندر بن فهد            2   \n",
       "1    1537  ابتسام  اروح لاحبابي      ملامح  بندر بن فهد            3   \n",
       "2    1537  ابتسام  اروح لاحبابي      ملامح  بندر بن فهد            4   \n",
       "3    1537  ابتسام  اروح لاحبابي      ملامح  بندر بن فهد            5   \n",
       "4    1537  ابتسام  اروح لاحبابي      ملامح  بندر بن فهد            6   \n",
       "\n",
       "                                 Lyrics SingerNationality SongDialect  \n",
       "0  اروح لاحبابي والاقي الفرح ساكن عينهم           Morocco    Meghribi  \n",
       "1     ابتسم لافراحهم وانا من الهم احترق           Morocco    Meghribi  \n",
       "2     واسأل جروحي من ترى حس بعذابي منهم           Morocco    Meghribi  \n",
       "3      وبالحقيقه انصدم محدن معه همي فرق           Morocco    Meghribi  \n",
       "4     دورت في كل الوجيه حسيت غربه بينهم           Morocco    Meghribi  "
      ]
     },
     "execution_count": 7,
     "metadata": {},
     "output_type": "execute_result"
    }
   ],
   "source": [
    "Lyrics_df.head()"
   ]
  },
  {
   "cell_type": "code",
   "execution_count": 8,
   "metadata": {
    "scrolled": true
   },
   "outputs": [
    {
     "name": "stdout",
     "output_type": "stream",
     "text": [
      "<class 'pandas.core.frame.DataFrame'>\n",
      "RangeIndex: 527896 entries, 0 to 527895\n",
      "Data columns (total 9 columns):\n",
      "songID               527896 non-null int64\n",
      "Singer               527896 non-null object\n",
      "SongTitle            527896 non-null object\n",
      "SongWriter           527821 non-null object\n",
      "Composer             527896 non-null object\n",
      "LyricsOrder          527896 non-null int64\n",
      "Lyrics               527896 non-null object\n",
      "SingerNationality    527896 non-null object\n",
      "SongDialect          527896 non-null object\n",
      "dtypes: int64(2), object(7)\n",
      "memory usage: 36.2+ MB\n"
     ]
    }
   ],
   "source": [
    "Lyrics_df.info()"
   ]
  },
  {
   "cell_type": "code",
   "execution_count": 9,
   "metadata": {
    "scrolled": true
   },
   "outputs": [
    {
     "data": {
      "text/plain": [
       "array(['Meghribi', 'Gulf', 'Iraqi', 'Sudan', 'Egyptian', 'Levantine'],\n",
       "      dtype=object)"
      ]
     },
     "execution_count": 9,
     "metadata": {},
     "output_type": "execute_result"
    }
   ],
   "source": [
    "Lyrics_df.SongDialect.unique()"
   ]
  },
  {
   "cell_type": "code",
   "execution_count": 10,
   "metadata": {},
   "outputs": [
    {
     "data": {
      "text/plain": [
       "6"
      ]
     },
     "execution_count": 10,
     "metadata": {},
     "output_type": "execute_result"
    }
   ],
   "source": [
    "Lyrics_df.SongDialect.nunique(dropna = True) "
   ]
  },
  {
   "cell_type": "code",
   "execution_count": 11,
   "metadata": {
    "scrolled": true
   },
   "outputs": [
    {
     "data": {
      "text/plain": [
       "25799"
      ]
     },
     "execution_count": 11,
     "metadata": {},
     "output_type": "execute_result"
    }
   ],
   "source": [
    "Lyrics_df.SongTitle.nunique(dropna = True) "
   ]
  }
 ],
 "metadata": {
  "kernelspec": {
   "display_name": "Python 3",
   "language": "python",
   "name": "python3"
  },
  "language_info": {
   "codemirror_mode": {
    "name": "ipython",
    "version": 3
   },
   "file_extension": ".py",
   "mimetype": "text/x-python",
   "name": "python",
   "nbconvert_exporter": "python",
   "pygments_lexer": "ipython3",
   "version": "3.7.4"
  }
 },
 "nbformat": 4,
 "nbformat_minor": 2
}
