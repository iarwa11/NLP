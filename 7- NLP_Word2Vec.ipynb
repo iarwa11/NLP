{
 "cells": [
  {
   "cell_type": "code",
   "execution_count": 2,
   "metadata": {
    "colab": {
     "base_uri": "https://localhost:8080/",
     "height": 71
    },
    "colab_type": "code",
    "id": "NON9giQ1_eZy",
    "outputId": "5db53643-876c-4244-b76c-92a1bc3f15f4"
   },
   "outputs": [
    {
     "name": "stderr",
     "output_type": "stream",
     "text": [
      "/usr/local/lib/python3.6/dist-packages/statsmodels/tools/_testing.py:19: FutureWarning: pandas.util.testing is deprecated. Use the functions in the public API at pandas.testing instead.\n",
      "  import pandas.util.testing as tm\n"
     ]
    }
   ],
   "source": [
    "from __future__ import absolute_import, division, print_function\n",
    "import codecs\n",
    "import multiprocessing\n",
    "import os\n",
    "import pprint\n",
    "import nltk\n",
    "import gensim\n",
    "from gensim import corpora, models, similarities\n",
    "import sklearn.manifold\n",
    "import numpy as np\n",
    "import math\n",
    "import re\n",
    "import pandas as pd\n",
    "import matplotlib.pyplot as plt\n",
    "import seaborn as sns\n",
    "from google.colab import drive"
   ]
  },
  {
   "cell_type": "code",
   "execution_count": 0,
   "metadata": {
    "colab": {},
    "colab_type": "code",
    "id": "UkgSaN4I-RzC"
   },
   "outputs": [],
   "source": [
    " \n",
    "Lyrics_df = pd.read_csv('farasa_lyrics.csv')\n",
    "# Dataset is now stored in a Pandas Dataframe"
   ]
  },
  {
   "cell_type": "code",
   "execution_count": 7,
   "metadata": {
    "colab": {
     "base_uri": "https://localhost:8080/",
     "height": 581
    },
    "colab_type": "code",
    "id": "5LRc7Hk9_Cos",
    "outputId": "89e603c2-1e48-42f4-d9ba-6e94a1b11eb1"
   },
   "outputs": [
    {
     "data": {
      "text/html": [
       "<div>\n",
       "<style scoped>\n",
       "    .dataframe tbody tr th:only-of-type {\n",
       "        vertical-align: middle;\n",
       "    }\n",
       "\n",
       "    .dataframe tbody tr th {\n",
       "        vertical-align: top;\n",
       "    }\n",
       "\n",
       "    .dataframe thead th {\n",
       "        text-align: right;\n",
       "    }\n",
       "</style>\n",
       "<table border=\"1\" class=\"dataframe\">\n",
       "  <thead>\n",
       "    <tr style=\"text-align: right;\">\n",
       "      <th></th>\n",
       "      <th>Unnamed: 0</th>\n",
       "      <th>Unnamed: 0.1</th>\n",
       "      <th>songID</th>\n",
       "      <th>Singer</th>\n",
       "      <th>SongTitle</th>\n",
       "      <th>SongWriter</th>\n",
       "      <th>Composer</th>\n",
       "      <th>LyricsOrder</th>\n",
       "      <th>Lyrics</th>\n",
       "      <th>SingerNationality</th>\n",
       "      <th>SongDialect</th>\n",
       "      <th>Clean_Lyrics</th>\n",
       "      <th>Lyrics_lemmatized</th>\n",
       "    </tr>\n",
       "  </thead>\n",
       "  <tbody>\n",
       "    <tr>\n",
       "      <th>0</th>\n",
       "      <td>16</td>\n",
       "      <td>16</td>\n",
       "      <td>1538</td>\n",
       "      <td>ابتسام</td>\n",
       "      <td>اروح لحبايبى</td>\n",
       "      <td>ملامح</td>\n",
       "      <td>بندر بن فهد</td>\n",
       "      <td>1</td>\n",
       "      <td>اروح لاحبابي والاقي الفرح ساكن عينهم</td>\n",
       "      <td>morocco</td>\n",
       "      <td>meghribi</td>\n",
       "      <td>['اروح', 'لاحبابي', 'والاقي', 'الفرح', 'ساكن',...</td>\n",
       "      <td>['اروح', 'احباب', 'اقي', 'فرح', 'ساكن', 'عين']</td>\n",
       "    </tr>\n",
       "    <tr>\n",
       "      <th>1</th>\n",
       "      <td>17</td>\n",
       "      <td>17</td>\n",
       "      <td>1538</td>\n",
       "      <td>ابتسام</td>\n",
       "      <td>اروح لحبايبى</td>\n",
       "      <td>ملامح</td>\n",
       "      <td>بندر بن فهد</td>\n",
       "      <td>2</td>\n",
       "      <td>ابتسم لافراحهم وانا من الهم احترق</td>\n",
       "      <td>morocco</td>\n",
       "      <td>meghribi</td>\n",
       "      <td>['ابتسم', 'لافراحهم', 'وانا', 'الهم', 'احترق']</td>\n",
       "      <td>['ابتسم', 'افراح', 'وان', 'هم', 'احترق']</td>\n",
       "    </tr>\n",
       "    <tr>\n",
       "      <th>2</th>\n",
       "      <td>18</td>\n",
       "      <td>18</td>\n",
       "      <td>1538</td>\n",
       "      <td>ابتسام</td>\n",
       "      <td>اروح لحبايبى</td>\n",
       "      <td>ملامح</td>\n",
       "      <td>بندر بن فهد</td>\n",
       "      <td>3</td>\n",
       "      <td>واسأل جروحي من ترى حس بعذابي منهم</td>\n",
       "      <td>morocco</td>\n",
       "      <td>meghribi</td>\n",
       "      <td>['واسل', 'جروحي', 'ترى', 'حس', 'بعذابي', 'منهم']</td>\n",
       "      <td>['اسل', 'جرح', 'رأى', 'حس', 'عذاب', 'من']</td>\n",
       "    </tr>\n",
       "    <tr>\n",
       "      <th>3</th>\n",
       "      <td>19</td>\n",
       "      <td>19</td>\n",
       "      <td>1538</td>\n",
       "      <td>ابتسام</td>\n",
       "      <td>اروح لحبايبى</td>\n",
       "      <td>ملامح</td>\n",
       "      <td>بندر بن فهد</td>\n",
       "      <td>4</td>\n",
       "      <td>وبالحقيقه انصدم محدن معه همي فرق</td>\n",
       "      <td>morocco</td>\n",
       "      <td>meghribi</td>\n",
       "      <td>['وبالحقيقه', 'انصدم', 'محدن', 'معه', 'همي', '...</td>\n",
       "      <td>['حقيقه', 'انصدم', 'محدن', 'مع', 'هم', 'فرق']</td>\n",
       "    </tr>\n",
       "    <tr>\n",
       "      <th>4</th>\n",
       "      <td>20</td>\n",
       "      <td>20</td>\n",
       "      <td>1538</td>\n",
       "      <td>ابتسام</td>\n",
       "      <td>اروح لحبايبى</td>\n",
       "      <td>ملامح</td>\n",
       "      <td>بندر بن فهد</td>\n",
       "      <td>5</td>\n",
       "      <td>دورت في كل الوجيه حسيت غربه بينهم</td>\n",
       "      <td>morocco</td>\n",
       "      <td>meghribi</td>\n",
       "      <td>['دورت', 'الوجيه', 'حسيت', 'غربه', 'بينهم']</td>\n",
       "      <td>['دورة', 'وجيه', 'حسي', 'غرب', 'بين']</td>\n",
       "    </tr>\n",
       "  </tbody>\n",
       "</table>\n",
       "</div>"
      ],
      "text/plain": [
       "   Unnamed: 0  ...                               Lyrics_lemmatized\n",
       "0          16  ...  ['اروح', 'احباب', 'اقي', 'فرح', 'ساكن', 'عين']\n",
       "1          17  ...        ['ابتسم', 'افراح', 'وان', 'هم', 'احترق']\n",
       "2          18  ...       ['اسل', 'جرح', 'رأى', 'حس', 'عذاب', 'من']\n",
       "3          19  ...   ['حقيقه', 'انصدم', 'محدن', 'مع', 'هم', 'فرق']\n",
       "4          20  ...           ['دورة', 'وجيه', 'حسي', 'غرب', 'بين']\n",
       "\n",
       "[5 rows x 13 columns]"
      ]
     },
     "execution_count": 7,
     "metadata": {
      "tags": []
     },
     "output_type": "execute_result"
    }
   ],
   "source": [
    "Lyrics_df.head()"
   ]
  },
  {
   "cell_type": "code",
   "execution_count": 8,
   "metadata": {
    "colab": {
     "base_uri": "https://localhost:8080/",
     "height": 255
    },
    "colab_type": "code",
    "id": "5VcaKYuqL2CX",
    "outputId": "872813d9-4ed3-493d-8e51-7ee66a8825b2"
   },
   "outputs": [
    {
     "data": {
      "text/plain": [
       "Unnamed: 0            int64\n",
       "Unnamed: 0.1          int64\n",
       "songID                int64\n",
       "Singer               object\n",
       "SongTitle            object\n",
       "SongWriter           object\n",
       "Composer             object\n",
       "LyricsOrder           int64\n",
       "Lyrics               object\n",
       "SingerNationality    object\n",
       "SongDialect          object\n",
       "Clean_Lyrics         object\n",
       "Lyrics_lemmatized    object\n",
       "dtype: object"
      ]
     },
     "execution_count": 8,
     "metadata": {
      "tags": []
     },
     "output_type": "execute_result"
    }
   ],
   "source": [
    "Lyrics_df.dtypes"
   ]
  },
  {
   "cell_type": "code",
   "execution_count": 0,
   "metadata": {
    "colab": {},
    "colab_type": "code",
    "id": "mrwy0M4sNb7D"
   },
   "outputs": [],
   "source": [
    "import ast\n"
   ]
  },
  {
   "cell_type": "code",
   "execution_count": 0,
   "metadata": {
    "colab": {},
    "colab_type": "code",
    "id": "K6Z5pd-AM3nJ"
   },
   "outputs": [],
   "source": [
    "Lyrics_df['Lyrics_lemmatized_List'] = Lyrics_df['Lyrics_lemmatized'].map(lambda x:ast.literal_eval(x))\n"
   ]
  },
  {
   "cell_type": "code",
   "execution_count": 0,
   "metadata": {
    "colab": {},
    "colab_type": "code",
    "id": "fBDiyY4TOw0p"
   },
   "outputs": [],
   "source": [
    "final_list = list(Lyrics_df['Lyrics_lemmatized_List'].values)"
   ]
  },
  {
   "cell_type": "code",
   "execution_count": 12,
   "metadata": {
    "colab": {
     "base_uri": "https://localhost:8080/",
     "height": 102
    },
    "colab_type": "code",
    "id": "GarruP_UKNDL",
    "outputId": "2ef8bc57-50b6-44c4-df42-b1ff33910fe5"
   },
   "outputs": [
    {
     "data": {
      "text/plain": [
       "array([\"['اروح', 'احباب', 'اقي', 'فرح', 'ساكن', 'عين']\",\n",
       "       \"['ابتسم', 'افراح', 'وان', 'هم', 'احترق']\",\n",
       "       \"['اسل', 'جرح', 'رأى', 'حس', 'عذاب', 'من']\", ...,\n",
       "       \"['جيت', 'دمعة', 'غرق']\", \"['ايش', 'قال', 'قلب', 'من', 'ودع']\",\n",
       "       \"['ايش', 'قال', 'القلب', 'لمن', 'ودعتهم']\"], dtype=object)"
      ]
     },
     "execution_count": 12,
     "metadata": {
      "tags": []
     },
     "output_type": "execute_result"
    }
   ],
   "source": [
    "Lyrics_df['Lyrics_lemmatized'].values"
   ]
  },
  {
   "cell_type": "markdown",
   "metadata": {
    "colab_type": "text",
    "id": "1H8ggIJUyrBw"
   },
   "source": [
    "**Train Word2Vec**"
   ]
  },
  {
   "cell_type": "code",
   "execution_count": 0,
   "metadata": {
    "colab": {},
    "colab_type": "code",
    "id": "2hMF7wl4yp2V"
   },
   "outputs": [],
   "source": [
    "# Dimensionality of the resulting word vectors\n",
    "num_feature = 300\n",
    "# Minimum word count threshold.\n",
    "min_word_count = 1\n",
    "# Number of threads to run in parallel.\n",
    "num_workers = multiprocessing.cpu_count()\n",
    "# Context window length\n",
    "context_size = 7\n",
    "# Downsample setting for frequent words\n",
    "downsampling = 1e-3\n",
    "# Seed for RNG, to make the results reproducible\n",
    "seed = 1"
   ]
  },
  {
   "cell_type": "code",
   "execution_count": 0,
   "metadata": {
    "colab": {},
    "colab_type": "code",
    "id": "s-bAxtCk2Y-m"
   },
   "outputs": [],
   "source": [
    "lyrics2vec = gensim.models.Word2Vec(\n",
    "    sg=1,\n",
    "    seed=seed,\n",
    "    workers=num_workers,\n",
    "    size=num_feature,\n",
    "    min_count=min_word_count,\n",
    "    window=context_size,\n",
    "    sample=downsampling\n",
    ")"
   ]
  },
  {
   "cell_type": "code",
   "execution_count": 0,
   "metadata": {
    "colab": {},
    "colab_type": "code",
    "id": "Na9suBpP4Y4i"
   },
   "outputs": [],
   "source": [
    "lyrics2vec.build_vocab(final_list)"
   ]
  },
  {
   "cell_type": "code",
   "execution_count": 16,
   "metadata": {
    "colab": {
     "base_uri": "https://localhost:8080/",
     "height": 34
    },
    "colab_type": "code",
    "id": "7UlOwGSI4ydy",
    "outputId": "26a86c00-50fa-41b1-9253-ce2e9d0073b3"
   },
   "outputs": [
    {
     "name": "stdout",
     "output_type": "stream",
     "text": [
      "Word2Vec vocabulary length: 102398\n"
     ]
    }
   ],
   "source": [
    "print('Word2Vec vocabulary length:', len(lyrics2vec.wv.vocab.keys()))"
   ]
  },
  {
   "cell_type": "code",
   "execution_count": 0,
   "metadata": {
    "colab": {},
    "colab_type": "code",
    "id": "JtdnlXP7TmDk"
   },
   "outputs": [],
   "source": [
    "#uncomment to view vocab\n",
    "#lyrics2vec.wv.vocab"
   ]
  },
  {
   "cell_type": "code",
   "execution_count": 23,
   "metadata": {
    "colab": {
     "base_uri": "https://localhost:8080/",
     "height": 241
    },
    "colab_type": "code",
    "id": "ZiYfVv0U7sel",
    "outputId": "04c19516-840a-4838-b072-aadadb0e5945"
   },
   "outputs": [
    {
     "name": "stderr",
     "output_type": "stream",
     "text": [
      "/usr/local/lib/python3.6/dist-packages/ipykernel_launcher.py:1: DeprecationWarning: Call to deprecated `most_similar` (Method will be removed in 4.0.0, use self.wv.most_similar() instead).\n",
      "  \"\"\"Entry point for launching an IPython kernel.\n"
     ]
    },
    {
     "data": {
      "text/plain": [
       "[('موسم', 0.24295690655708313),\n",
       " ('نفخة', 0.2412198781967163),\n",
       " ('ياول', 0.23267044126987457),\n",
       " ('مسك', 0.23203639686107635),\n",
       " ('يخبوا', 0.22788837552070618),\n",
       " ('شالن', 0.22756469249725342),\n",
       " ('خليكى', 0.2271377444267273),\n",
       " ('تلخبطو', 0.22296689450740814),\n",
       " ('يامبعد', 0.22234289348125458),\n",
       " ('هتجيني', 0.2201124131679535)]"
      ]
     },
     "execution_count": 23,
     "metadata": {
      "tags": []
     },
     "output_type": "execute_result"
    }
   ],
   "source": [
    "lyrics2vec.most_similar('ياقلبي')"
   ]
  },
  {
   "cell_type": "code",
   "execution_count": 0,
   "metadata": {
    "colab": {
     "base_uri": "https://localhost:8080/",
     "height": 71
    },
    "colab_type": "code",
    "id": "4u_IBKmRm5cT",
    "outputId": "fc725793-ac7f-409c-9c68-60a960e4fc79"
   },
   "outputs": [
    {
     "name": "stderr",
     "output_type": "stream",
     "text": [
      "/usr/local/lib/python3.6/dist-packages/ipykernel_launcher.py:1: DeprecationWarning: Call to deprecated `__getitem__` (Method will be removed in 4.0.0, use self.wv.__getitem__() instead).\n",
      "  \"\"\"Entry point for launching an IPython kernel.\n"
     ]
    }
   ],
   "source": [
    "X = lyrics2vec[lyrics2vec.wv.vocab]"
   ]
  },
  {
   "cell_type": "markdown",
   "metadata": {
    "colab_type": "text",
    "id": "USKk2OSSmcN7"
   },
   "source": [
    "Compress the word vectors into 2D space and plot them"
   ]
  },
  {
   "cell_type": "code",
   "execution_count": 0,
   "metadata": {
    "colab": {},
    "colab_type": "code",
    "id": "uhPxnhMTmqZg"
   },
   "outputs": [],
   "source": [
    "from sklearn.decomposition import PCA\n",
    "from matplotlib import pyplot\n"
   ]
  },
  {
   "cell_type": "code",
   "execution_count": 0,
   "metadata": {
    "colab": {},
    "colab_type": "code",
    "id": "tRw6zYawiV3s"
   },
   "outputs": [],
   "source": [
    "pca = PCA(n_components=2)\n",
    "result = pca.fit_transform(X)"
   ]
  },
  {
   "cell_type": "code",
   "execution_count": 0,
   "metadata": {
    "colab": {
     "base_uri": "https://localhost:8080/",
     "height": 282
    },
    "colab_type": "code",
    "id": "3jgS0hiwiWXc",
    "outputId": "980df61d-7b07-4d3d-b75c-b0e46ab462aa"
   },
   "outputs": [
    {
     "data": {
      "text/plain": [
       "<matplotlib.collections.PathCollection at 0x7fcf0c3bcda0>"
      ]
     },
     "execution_count": 23,
     "metadata": {
      "tags": []
     },
     "output_type": "execute_result"
    },
    {
     "data": {
      "image/png": "[encoded data removed]",
      "text/plain": [
       "<Figure size 432x288 with 1 Axes>"
      ]
     },
     "metadata": {
      "needs_background": "light",
      "tags": []
     },
     "output_type": "display_data"
    }
   ],
   "source": [
    "pyplot.scatter(result[:, 0], result[:, 1])"
   ]
  },
  {
   "cell_type": "code",
   "execution_count": 0,
   "metadata": {
    "colab": {
     "base_uri": "https://localhost:8080/",
     "height": 269
    },
    "colab_type": "code",
    "id": "mkDFnHg3lEnP",
    "outputId": "86cedf3e-c82d-483f-cebb-5f426c2c2c9a"
   },
   "outputs": [
    {
     "data": {
      "image/png": "[encoded data removed]",
      "text/plain": [
       "<Figure size 432x288 with 1 Axes>"
      ]
     },
     "metadata": {
      "needs_background": "light",
      "tags": []
     },
     "output_type": "display_data"
    }
   ],
   "source": [
    "\n",
    "words = list(lyrics2vec.wv.vocab)\n",
    "for i, word in enumerate(words):\n",
    "\tpyplot.annotate(word, xy=(result[i, 0], result[i, 1]))"
   ]
  }
 ],
 "metadata": {
  "accelerator": "GPU",
  "colab": {
   "collapsed_sections": [],
   "machine_shape": "hm",
   "name": "NLP_Word2Vec.ipynb",
   "provenance": [],
   "toc_visible": true
  },
  "kernelspec": {
   "display_name": "Python 3",
   "language": "python",
   "name": "python3"
  },
  "language_info": {
   "codemirror_mode": {
    "name": "ipython",
    "version": 3
   },
   "file_extension": ".py",
   "mimetype": "text/x-python",
   "name": "python",
   "nbconvert_exporter": "python",
   "pygments_lexer": "ipython3",
   "version": "3.7.4"
  }
 },
 "nbformat": 4,
 "nbformat_minor": 1
}
